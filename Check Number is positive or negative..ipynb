{
 "cells": [
  {
   "cell_type": "markdown",
   "id": "8c172f1d",
   "metadata": {},
   "source": [
    "# Write a User Defined Program to Check a number is Positive or Negative ?"
   ]
  },
  {
   "cell_type": "code",
   "execution_count": 4,
   "id": "d268d5c5",
   "metadata": {},
   "outputs": [
    {
     "name": "stdout",
     "output_type": "stream",
     "text": [
      "Enter Any Integer Numbers: -5\n",
      "-5 is Negative Number\n"
     ]
    }
   ],
   "source": [
    "n=int(input(\"Enter Any Integer Numbers: \"))\n",
    "\n",
    "if n>0:\n",
    "    print(n,\"is Positive Number\")\n",
    "elif n==0:\n",
    "    print(n,\"Zero is Not Valid  Number.\")\n",
    "else:\n",
    "    print(n,\"is Negative Number\")"
   ]
  },
  {
   "cell_type": "code",
   "execution_count": null,
   "id": "797cd512",
   "metadata": {},
   "outputs": [],
   "source": []
  }
 ],
 "metadata": {
  "kernelspec": {
   "display_name": "Python 3 (ipykernel)",
   "language": "python",
   "name": "python3"
  },
  "language_info": {
   "codemirror_mode": {
    "name": "ipython",
    "version": 3
   },
   "file_extension": ".py",
   "mimetype": "text/x-python",
   "name": "python",
   "nbconvert_exporter": "python",
   "pygments_lexer": "ipython3",
   "version": "3.10.11"
  }
 },
 "nbformat": 4,
 "nbformat_minor": 5
}
